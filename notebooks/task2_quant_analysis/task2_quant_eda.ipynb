{
 "cells": [
  {
   "cell_type": "code",
   "id": "initial_id",
   "metadata": {
    "collapsed": true,
    "ExecuteTime": {
     "end_time": "2025-05-30T20:12:27.208205Z",
     "start_time": "2025-05-30T20:12:27.087265Z"
    }
   },
   "source": [
    "import pandas as pd\n",
    "from pathlib import Path\n",
    "\n",
    "\n",
    "\n",
    "def load_stock_data(ticker, data_dir='../../data/yfinance_data'):\n",
    "    file_path = Path(data_dir) / f\"{ticker}_historical_data.csv\"\n",
    "\n",
    "    try:\n",
    "        df = pd.read_csv(\n",
    "            file_path\n",
    "        )\n",
    "\n",
    "\n",
    "        required_cols = {'Open', 'High', 'Low', 'Close', 'Volume'}\n",
    "        if not required_cols.issubset(df.columns):\n",
    "            missing = required_cols - set(df.columns)\n",
    "            raise ValueError(f\"Missing columns: {missing}\")\n",
    "\n",
    "\n",
    "        df = df.sort_index().loc[~df.index.duplicated(keep='first')]\n",
    "\n",
    "        print(f\"Successfully loaded {len(df)} rows for {ticker}\")\n",
    "        return df\n",
    "\n",
    "    except FileNotFoundError:\n",
    "        raise FileNotFoundError(f\"Price data not found for {ticker} at {file_path}\")\n",
    "    except Exception as e:\n",
    "        raise Exception(f\"Error loading {ticker} data: {str(e)}\")\n",
    "\n",
    "# Example usage\n",
    "try:\n",
    "\n",
    "    tickers = ['AAPL', 'MSFT', 'GOOG','AMZN','NVDA','TSLA','META']\n",
    "    stock_data = {ticker: load_stock_data(ticker) for ticker in tickers}\n",
    "\n",
    "    # Verify one dataframe\n",
    "    aapl_data = stock_data['AAPL']\n",
    "    print(\"\\nSample AAPL data:\")\n",
    "    print(aapl_data.head(3))\n",
    "\n",
    "except Exception as e:\n",
    "    print(f\"Data loading failed: {str(e)}\")\n",
    "\n",
    "\n",
    "#"
   ],
   "outputs": [
    {
     "name": "stdout",
     "output_type": "stream",
     "text": [
      "Successfully loaded 10998 rows for AAPL\n",
      "Successfully loaded 9672 rows for MSFT\n",
      "Successfully loaded 5020 rows for GOOG\n",
      "Successfully loaded 6846 rows for AMZN\n",
      "Successfully loaded 6421 rows for NVDA\n",
      "Successfully loaded 3545 rows for TSLA\n",
      "Successfully loaded 2926 rows for META\n",
      "\n",
      "Sample AAPL data:\n",
      "         Date      Open      High       Low     Close  Adj Close     Volume  \\\n",
      "0  1980-12-12  0.128348  0.128906  0.128348  0.128348   0.098943  469033600   \n",
      "1  1980-12-15  0.122210  0.122210  0.121652  0.121652   0.093781  175884800   \n",
      "2  1980-12-16  0.113281  0.113281  0.112723  0.112723   0.086898  105728000   \n",
      "\n",
      "   Dividends  Stock Splits  \n",
      "0        0.0           0.0  \n",
      "1        0.0           0.0  \n",
      "2        0.0           0.0  \n"
     ]
    }
   ],
   "execution_count": 5
  },
  {
   "metadata": {},
   "cell_type": "code",
   "outputs": [],
   "execution_count": null,
   "source": "",
   "id": "23488bbecbb73997"
  }
 ],
 "metadata": {
  "kernelspec": {
   "display_name": "Python [conda env:base] *",
   "language": "python",
   "name": "conda-base-py"
  },
  "language_info": {
   "codemirror_mode": {
    "name": "ipython",
    "version": 2
   },
   "file_extension": ".py",
   "mimetype": "text/x-python",
   "name": "python",
   "nbconvert_exporter": "python",
   "pygments_lexer": "ipython2",
   "version": "2.7.6"
  }
 },
 "nbformat": 4,
 "nbformat_minor": 5
}
