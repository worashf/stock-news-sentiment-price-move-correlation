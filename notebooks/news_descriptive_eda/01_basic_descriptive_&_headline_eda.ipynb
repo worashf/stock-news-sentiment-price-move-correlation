{
 "cells": [
  {
   "metadata": {},
   "cell_type": "raw",
   "source": "### load news Data",
   "id": "cd7fa1bc31561cf7"
  },
  {
   "metadata": {
    "ExecuteTime": {
     "end_time": "2025-06-03T13:14:19.602247Z",
     "start_time": "2025-06-03T13:14:06.209227Z"
    }
   },
   "cell_type": "code",
   "source": [
    "import sys\n",
    "\n",
    "from rich.jupyter import display\n",
    "\n",
    "from src import load_csv_finantial_news_data\n",
    "\n",
    "sys.path.append('../../src') # append src path\n",
    "\n",
    "data_path = '../../data/news/raw_analyst_ratings.csv'\n",
    "stock_news = load_csv_finantial_news_data(data_path)\n",
    "\n",
    "\n",
    "# Check column names (ensure 'Ticker' exists)\n",
    "print(stock_news.columns.tolist())\n",
    "\n",
    "# Filter news for specific tickers (e.g., AAPL, TSLA)\n",
    "tickers = ['AAPL', 'MSFT', 'GOOG', 'AMZN', 'NVDA', 'TSLA', 'META']\n",
    "stock_news['Ticker'] = stock_news['stock'].str.upper()\n",
    "filtered_news = stock_news[stock_news['Ticker'].isin(tickers)]\n",
    "\n",
    "# Display filtered news\n",
    "print(f\"Filtered News Count by Ticker:\")\n",
    "print(filtered_news['Ticker'].value_counts())"
   ],
   "id": "92174a6b4ebc8fd1",
   "outputs": [
    {
     "name": "stdout",
     "output_type": "stream",
     "text": [
      "Data loaded successfully.\n",
      "DataFrame shape: (1407328, 6)\n",
      "['Unnamed: 0', 'headline', 'url', 'publisher', 'date', 'stock']\n",
      "Filtered News Count by Ticker:\n",
      "Ticker\n",
      "NVDA    3146\n",
      "TSLA    1875\n",
      "GOOG    1199\n",
      "AAPL     441\n",
      "AMZN     278\n",
      "Name: count, dtype: int64\n"
     ]
    }
   ],
   "execution_count": 8
  },
  {
   "metadata": {},
   "cell_type": "markdown",
   "source": "2. inspect the stock news data",
   "id": "8d09029d62a65881"
  },
  {
   "metadata": {
    "ExecuteTime": {
     "end_time": "2025-05-30T17:06:15.652665Z",
     "start_time": "2025-05-30T17:06:11.917205Z"
    }
   },
   "cell_type": "code",
   "source": [
    "print(f\"The shape of news data: {stock_news.shape}\")\n",
    "print(f\"The columns of news data: {stock_news.columns}\")\n",
    "\n",
    "\n",
    "print(\"\\n Display 5 rows of news data\")\n",
    "print(stock_news.head())\n",
    "\n",
    "print(\"\\nInformation:\")\n",
    "print(stock_news.info)\n",
    "\n",
    "print(\"\\nData types:\")\n",
    "print(stock_news.dtypes)\n",
    "print(\"\\nDescriptive statistics:\")\n",
    "print(stock_news.describe(include='all'))\n",
    "\n",
    "print(f\"Missing values: {stock_news.isnull().sum()}\")\n",
    "\n",
    "\n",
    "\n"
   ],
   "id": "78493dc05c9ab957",
   "outputs": [
    {
     "name": "stdout",
     "output_type": "stream",
     "text": [
      "The shape of news data: (1407328, 6)\n",
      "The columns of news data: Index(['Unnamed: 0', 'headline', 'url', 'publisher', 'date', 'stock'], dtype='object')\n",
      "\n",
      " Display 5 rows of news data\n",
      "   Unnamed: 0                                           headline  \\\n",
      "0           0            Stocks That Hit 52-Week Highs On Friday   \n",
      "1           1         Stocks That Hit 52-Week Highs On Wednesday   \n",
      "2           2                      71 Biggest Movers From Friday   \n",
      "3           3       46 Stocks Moving In Friday's Mid-Day Session   \n",
      "4           4  B of A Securities Maintains Neutral on Agilent...   \n",
      "\n",
      "                                                 url          publisher  \\\n",
      "0  https://www.benzinga.com/news/20/06/16190091/s...  Benzinga Insights   \n",
      "1  https://www.benzinga.com/news/20/06/16170189/s...  Benzinga Insights   \n",
      "2  https://www.benzinga.com/news/20/05/16103463/7...         Lisa Levin   \n",
      "3  https://www.benzinga.com/news/20/05/16095921/4...         Lisa Levin   \n",
      "4  https://www.benzinga.com/news/20/05/16095304/b...         Vick Meyer   \n",
      "\n",
      "                        date stock  \n",
      "0  2020-06-05 10:30:54-04:00     A  \n",
      "1  2020-06-03 10:45:20-04:00     A  \n",
      "2  2020-05-26 04:30:07-04:00     A  \n",
      "3  2020-05-22 12:45:06-04:00     A  \n",
      "4  2020-05-22 11:38:59-04:00     A  \n",
      "\n",
      "Information:\n",
      "<bound method DataFrame.info of          Unnamed: 0                                           headline  \\\n",
      "0                 0            Stocks That Hit 52-Week Highs On Friday   \n",
      "1                 1         Stocks That Hit 52-Week Highs On Wednesday   \n",
      "2                 2                      71 Biggest Movers From Friday   \n",
      "3                 3       46 Stocks Moving In Friday's Mid-Day Session   \n",
      "4                 4  B of A Securities Maintains Neutral on Agilent...   \n",
      "...             ...                                                ...   \n",
      "1407323     1413844             Top Narrow Based Indexes For August 29   \n",
      "1407324     1413845  Recap: Wednesday's Top Percentage Gainers and ...   \n",
      "1407325     1413846  UPDATE: Oppenheimer Color on China Zenix Auto ...   \n",
      "1407326     1413847  Oppenheimer Initiates China Zenix At Outperfor...   \n",
      "1407327     1413848  China Zenix Auto International Opens For Tradi...   \n",
      "\n",
      "                                                       url          publisher  \\\n",
      "0        https://www.benzinga.com/news/20/06/16190091/s...  Benzinga Insights   \n",
      "1        https://www.benzinga.com/news/20/06/16170189/s...  Benzinga Insights   \n",
      "2        https://www.benzinga.com/news/20/05/16103463/7...         Lisa Levin   \n",
      "3        https://www.benzinga.com/news/20/05/16095921/4...         Lisa Levin   \n",
      "4        https://www.benzinga.com/news/20/05/16095304/b...         Vick Meyer   \n",
      "...                                                    ...                ...   \n",
      "1407323  https://www.benzinga.com/news/11/08/1888782/to...      Monica Gerson   \n",
      "1407324  https://www.benzinga.com/news/earnings/11/06/1...       Benjamin Lee   \n",
      "1407325  https://www.benzinga.com/analyst-ratings/analy...     BenzingaStaffL   \n",
      "1407326  https://www.benzinga.com/analyst-ratings/price...          Joe Young   \n",
      "1407327  https://www.benzinga.com/news/ipos/11/05/10789...      Allie Wickman   \n",
      "\n",
      "                              date stock  \n",
      "0        2020-06-05 10:30:54-04:00     A  \n",
      "1        2020-06-03 10:45:20-04:00     A  \n",
      "2        2020-05-26 04:30:07-04:00     A  \n",
      "3        2020-05-22 12:45:06-04:00     A  \n",
      "4        2020-05-22 11:38:59-04:00     A  \n",
      "...                            ...   ...  \n",
      "1407323        2011-08-29 00:00:00    ZX  \n",
      "1407324        2011-06-22 00:00:00    ZX  \n",
      "1407325        2011-06-21 00:00:00    ZX  \n",
      "1407326        2011-06-21 00:00:00    ZX  \n",
      "1407327        2011-05-12 00:00:00    ZX  \n",
      "\n",
      "[1407328 rows x 6 columns]>\n",
      "\n",
      "Data types:\n",
      "Unnamed: 0     int64\n",
      "headline      object\n",
      "url           object\n",
      "publisher     object\n",
      "date          object\n",
      "stock         object\n",
      "dtype: object\n",
      "\n",
      "Descriptive statistics:\n",
      "          Unnamed: 0                 headline  \\\n",
      "count   1.407328e+06                  1407328   \n",
      "unique           NaN                   845770   \n",
      "top              NaN  Benzinga's Top Upgrades   \n",
      "freq             NaN                     5449   \n",
      "mean    7.072454e+05                      NaN   \n",
      "std     4.081009e+05                      NaN   \n",
      "min     0.000000e+00                      NaN   \n",
      "25%     3.538128e+05                      NaN   \n",
      "50%     7.072395e+05                      NaN   \n",
      "75%     1.060710e+06                      NaN   \n",
      "max     1.413848e+06                      NaN   \n",
      "\n",
      "                                                      url      publisher  \\\n",
      "count                                             1407328        1407328   \n",
      "unique                                             883429           1034   \n",
      "top     https://www.benzinga.com/news/20/03/15538835/s...  Paul Quintaro   \n",
      "freq                                                 1704         228373   \n",
      "mean                                                  NaN            NaN   \n",
      "std                                                   NaN            NaN   \n",
      "min                                                   NaN            NaN   \n",
      "25%                                                   NaN            NaN   \n",
      "50%                                                   NaN            NaN   \n",
      "75%                                                   NaN            NaN   \n",
      "max                                                   NaN            NaN   \n",
      "\n",
      "                       date    stock  \n",
      "count               1407328  1407328  \n",
      "unique                39957     6204  \n",
      "top     2020-03-12 00:00:00      MRK  \n",
      "freq                   1766     3333  \n",
      "mean                    NaN      NaN  \n",
      "std                     NaN      NaN  \n",
      "min                     NaN      NaN  \n",
      "25%                     NaN      NaN  \n",
      "50%                     NaN      NaN  \n",
      "75%                     NaN      NaN  \n",
      "max                     NaN      NaN  \n",
      "Missing values: Unnamed: 0    0\n",
      "headline      0\n",
      "url           0\n",
      "publisher     0\n",
      "date          0\n",
      "stock         0\n",
      "dtype: int64\n"
     ]
    }
   ],
   "execution_count": 3
  },
  {
   "metadata": {},
   "cell_type": "markdown",
   "source": "### Basic textual analysis like headline length",
   "id": "bf7f3873b20870e9"
  },
  {
   "metadata": {
    "ExecuteTime": {
     "end_time": "2025-05-30T17:06:16.395060Z",
     "start_time": "2025-05-30T17:06:15.674102Z"
    }
   },
   "cell_type": "code",
   "source": [
    "stock_news['headline_char_count'] = stock_news['headline'].astype(str).str.len()\n",
    "print(f\"Headline character count {stock_news[['headline','headline_char_count' ]]}\")"
   ],
   "id": "d986520fbd79cf4a",
   "outputs": [
    {
     "name": "stdout",
     "output_type": "stream",
     "text": [
      "Headline character count                                                   headline  \\\n",
      "0                  Stocks That Hit 52-Week Highs On Friday   \n",
      "1               Stocks That Hit 52-Week Highs On Wednesday   \n",
      "2                            71 Biggest Movers From Friday   \n",
      "3             46 Stocks Moving In Friday's Mid-Day Session   \n",
      "4        B of A Securities Maintains Neutral on Agilent...   \n",
      "...                                                    ...   \n",
      "1407323             Top Narrow Based Indexes For August 29   \n",
      "1407324  Recap: Wednesday's Top Percentage Gainers and ...   \n",
      "1407325  UPDATE: Oppenheimer Color on China Zenix Auto ...   \n",
      "1407326  Oppenheimer Initiates China Zenix At Outperfor...   \n",
      "1407327  China Zenix Auto International Opens For Tradi...   \n",
      "\n",
      "         headline_char_count  \n",
      "0                         39  \n",
      "1                         42  \n",
      "2                         29  \n",
      "3                         44  \n",
      "4                         87  \n",
      "...                      ...  \n",
      "1407323                   38  \n",
      "1407324                   52  \n",
      "1407325                   56  \n",
      "1407326                   54  \n",
      "1407327                   81  \n",
      "\n",
      "[1407328 rows x 2 columns]\n"
     ]
    }
   ],
   "execution_count": 4
  },
  {
   "metadata": {},
   "cell_type": "markdown",
   "source": "### Headline word count",
   "id": "704a5bdd71078ee8"
  },
  {
   "metadata": {
    "ExecuteTime": {
     "end_time": "2025-05-30T17:06:21.686644Z",
     "start_time": "2025-05-30T17:06:16.429219Z"
    }
   },
   "cell_type": "code",
   "source": [
    "stock_news['headline_word_count']= stock_news['headline'].astype(str).str.split().str.len()\n",
    "print(f\"Headline word count {stock_news[['headline','headline_word_count']]}\")\n",
    "\n",
    "print(\"\\nDescriptive statistics for headline characters count:\")\n",
    "print(stock_news['headline_char_count'].describe())\n",
    "\n",
    "\n",
    "print(\"\\nDescriptive statistics for headline word count:\")\n",
    "print(stock_news['headline_word_count'].describe())"
   ],
   "id": "8fc05f3c75b166e8",
   "outputs": [
    {
     "name": "stdout",
     "output_type": "stream",
     "text": [
      "Headline word count                                                   headline  \\\n",
      "0                  Stocks That Hit 52-Week Highs On Friday   \n",
      "1               Stocks That Hit 52-Week Highs On Wednesday   \n",
      "2                            71 Biggest Movers From Friday   \n",
      "3             46 Stocks Moving In Friday's Mid-Day Session   \n",
      "4        B of A Securities Maintains Neutral on Agilent...   \n",
      "...                                                    ...   \n",
      "1407323             Top Narrow Based Indexes For August 29   \n",
      "1407324  Recap: Wednesday's Top Percentage Gainers and ...   \n",
      "1407325  UPDATE: Oppenheimer Color on China Zenix Auto ...   \n",
      "1407326  Oppenheimer Initiates China Zenix At Outperfor...   \n",
      "1407327  China Zenix Auto International Opens For Tradi...   \n",
      "\n",
      "         headline_word_count  \n",
      "0                          7  \n",
      "1                          7  \n",
      "2                          5  \n",
      "3                          7  \n",
      "4                         14  \n",
      "...                      ...  \n",
      "1407323                    7  \n",
      "1407324                    7  \n",
      "1407325                    8  \n",
      "1407326                    8  \n",
      "1407327                   14  \n",
      "\n",
      "[1407328 rows x 2 columns]\n",
      "\n",
      "Descriptive statistics for headline characters count:\n",
      "count    1.407328e+06\n",
      "mean     7.312051e+01\n",
      "std      4.073531e+01\n",
      "min      3.000000e+00\n",
      "25%      4.700000e+01\n",
      "50%      6.400000e+01\n",
      "75%      8.700000e+01\n",
      "max      5.120000e+02\n",
      "Name: headline_char_count, dtype: float64\n",
      "\n",
      "Descriptive statistics for headline word count:\n",
      "count    1.407328e+06\n",
      "mean     1.141671e+01\n",
      "std      6.352997e+00\n",
      "min      1.000000e+00\n",
      "25%      7.000000e+00\n",
      "50%      1.000000e+01\n",
      "75%      1.300000e+01\n",
      "max      7.700000e+01\n",
      "Name: headline_word_count, dtype: float64\n"
     ]
    }
   ],
   "execution_count": 5
  },
  {
   "metadata": {
    "ExecuteTime": {
     "end_time": "2025-05-30T17:06:21.728963Z",
     "start_time": "2025-05-30T17:06:21.725896Z"
    }
   },
   "cell_type": "code",
   "source": "",
   "id": "8317998b30f14b03",
   "outputs": [],
   "execution_count": null
  }
 ],
 "metadata": {
  "kernelspec": {
   "display_name": "Python [conda env:base] *",
   "language": "python",
   "name": "conda-base-py"
  },
  "language_info": {
   "codemirror_mode": {
    "name": "ipython",
    "version": 2
   },
   "file_extension": ".py",
   "mimetype": "text/x-python",
   "name": "python",
   "nbconvert_exporter": "python",
   "pygments_lexer": "ipython2",
   "version": "2.7.6"
  }
 },
 "nbformat": 4,
 "nbformat_minor": 5
}
